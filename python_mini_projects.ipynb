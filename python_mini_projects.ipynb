{
  "nbformat": 4,
  "nbformat_minor": 0,
  "metadata": {
    "colab": {
      "name": "python mini projects.ipynb",
      "provenance": []
    },
    "kernelspec": {
      "name": "python3",
      "display_name": "Python 3"
    },
    "language_info": {
      "name": "python"
    }
  },
  "cells": [
    {
      "cell_type": "code",
      "metadata": {
        "colab": {
          "base_uri": "https://localhost:8080/"
        },
        "id": "VhvXG5rAxddR",
        "outputId": "7ad6065a-0c56-4c3d-b502-5663e36935f6"
      },
      "source": [
        "print('Welcome to the computer quiz')\n",
        "playing=input(\"do you want to play the quiz?: \")\n",
        "score=0\n",
        "if playing.lower() != \"yes\":\n",
        "  quit()\n",
        "print(\"lets play the quiz\")\n",
        "ques=input(\"What is cpu stands for? \")\n",
        "ans = \"central processing unit\"\n",
        "if ques.lower()==ans:\n",
        "  print(\"correct!\")\n",
        "  score +=1\n",
        "else:\n",
        "  print(\"incorrect!\",\"correct Answer is :\",ans)\n",
        "\n",
        "ques=input(\"What is cpu stands for? \")\n",
        "ans = \"central processing unit\"\n",
        "if ques.lower()==ans:\n",
        "  print(\"correct!\")\n",
        "  score +=1\n",
        "else:\n",
        "  print(\"incorrect!\",\"correct Answer is :\",ans)\n",
        "\n",
        "ques=input(\"What is cpu stands for? \")\n",
        "ans = \"central processing unit\"\n",
        "if ques==ans:\n",
        "  print(\"correct!\")\n",
        "  score +=1\n",
        "else:\n",
        "  print(\"incorrect!\",\"correct Answer is :\",ans)\n",
        "\n",
        "ques=input(\"What is cpu stands for? \")\n",
        "ans = \"central processing unit\"\n",
        "if ques==ans:\n",
        "  print(\"correct!\")\n",
        "  score +=1\n",
        "else:\n",
        "  print(\"incorrect!\",\"correct Answer is :\",ans)\n",
        "print(\"your score: \",score)\n",
        "print(\"you got\",(score/4)*100,\"%\")\n"
      ],
      "execution_count": 8,
      "outputs": [
        {
          "output_type": "stream",
          "text": [
            "Welcome to the computer quiz\n",
            "do you want to play the quiz?: yes\n",
            "lets play the quiz\n",
            "What is cpu stands for? central processing unit\n",
            "correct!\n",
            "What is cpu stands for? central processing unit\n",
            "correct!\n",
            "What is cpu stands for? central processing unit\n",
            "correct!\n",
            "What is cpu stands for? fasak\n",
            "incorrect! correct Answer is : central processing unit\n",
            "your score:  3\n",
            "you got 75.0 %\n"
          ],
          "name": "stdout"
        }
      ]
    },
    {
      "cell_type": "code",
      "metadata": {
        "colab": {
          "base_uri": "https://localhost:8080/"
        },
        "id": "e8zNTRB-1e4E",
        "outputId": "38310507-0259-41c3-f879-27758c5b55df"
      },
      "source": [
        "import random\n",
        "t = int(input(\"type a number :\"))\n",
        "if t <0:\n",
        "  print(\"please enter a number larger than 0\")\n",
        "  quit()\n",
        "random_number = random.randint(0,t)\n",
        "score=0\n",
        "\n",
        "while True:\n",
        "  score +=1\n",
        "  user_guess= int(input(\"make a guess: \"))\n",
        "  if user_guess <0:\n",
        "    print(\"please enter a number larger than 0\")\n",
        "    continue\n",
        "  if user_guess == random_number:\n",
        "    print(\"uh got it!!\")\n",
        "    break\n",
        "  elif user_guess > random_number:\n",
        "      print(\"you are above the number\")\n",
        "  else: \n",
        "    print(\"you are below the number\")\n",
        "\n",
        "print(\"number of guessess:\",score)\n",
        "\n",
        "\n"
      ],
      "execution_count": 14,
      "outputs": [
        {
          "output_type": "stream",
          "text": [
            "type a number :5\n",
            "make a guess: 0\n",
            "uh got it wrong\n",
            "make a guess: 1\n",
            "uh got it wrong\n",
            "make a guess: 2\n",
            "uh got it wrong\n",
            "make a guess: 3\n",
            "uh got it wrong\n",
            "make a guess: 4\n",
            "uh got it wrong\n",
            "make a guess: 5\n",
            "uh got it!!\n",
            "number of guessess: 6\n"
          ],
          "name": "stdout"
        }
      ]
    },
    {
      "cell_type": "code",
      "metadata": {
        "colab": {
          "base_uri": "https://localhost:8080/"
        },
        "id": "wZtbDgFW_W9r",
        "outputId": "cde43c11-2fc2-4a59-a88a-32fccfb99171"
      },
      "source": [
        "#rock paper scissors\n",
        "import random\n",
        "user_wins=0\n",
        "computer_wins=0\n",
        "options=[\"rock\",\"paper\",\"scissors\"]\n",
        "\n",
        "while True:\n",
        "  user_input = input(\"Type rock/paper/scissors or Q to quit: \").lower()\n",
        "  if user_input == \"q\":\n",
        "    break\n",
        "  if user_input not in options:\n",
        "    continue\n",
        "  random_number = random.randint(0,2)\n",
        "  computer_pick = options[random_number]\n",
        "  print(\"computer picked\",computer_pick +\".\")\n",
        "  \n",
        "  if user_input == \"rock\" and computer_pick==\"scissors\":\n",
        "    print(\"you won!\")\n",
        "    user_wins+=1\n",
        "    continue\n",
        "  elif user_input == \"paper\" and computer_pick==\"rock\":\n",
        "    print(\"you won!\")\n",
        "    user_wins+=1\n",
        "    continue\n",
        "  elif user_input == \"rock\" and computer_pick==\"scissors\":\n",
        "    print(\"you won!\")\n",
        "    user_wins+=1\n",
        "    continue\n",
        "  else:\n",
        "    print(\"you lost!\")\n",
        "    computer_wins+=1\n",
        "print(\"you won: \",user_wins)\n",
        "  \n",
        "\n",
        "\n",
        "\n"
      ],
      "execution_count": 5,
      "outputs": [
        {
          "output_type": "stream",
          "text": [
            "Type rock/paper/scissors or Q to quit: rock\n",
            "computer picked paper.\n",
            "you lost!\n",
            "Type rock/paper/scissors or Q to quit: rock\n",
            "computer picked rock.\n",
            "you lost!\n",
            "Type rock/paper/scissors or Q to quit: rock\n",
            "computer picked scissors.\n",
            "you won!\n",
            "Type rock/paper/scissors or Q to quit: q\n",
            "you won:  1\n"
          ],
          "name": "stdout"
        }
      ]
    },
    {
      "cell_type": "code",
      "metadata": {
        "colab": {
          "base_uri": "https://localhost:8080/",
          "height": 135
        },
        "id": "iNYvFdLqf7t7",
        "outputId": "b885f3ce-f2d4-47c6-bdf2-4ee7b9fbaedd"
      },
      "source": [
        "#password managers\n",
        "pwd = input(\"what is the master password: \")\n",
        "def view():\n",
        "   with open('password.txt','r') as f:\n",
        "    for line in f.readlines():\n",
        "      data=line.rstrip()\n",
        "      user,passw=data.split(\"|\")\n",
        "      print(\"user:\",user,\"password: \",passw)\n",
        "\n",
        "      \n",
        "\n",
        "def add():\n",
        "  name=input('account name: ')\n",
        "  pwd = input('password: ')\n",
        "  with open('password.txt','a') as f:\n",
        "    f.write(name + \"|\" + pwd+ \"\\n\")\n",
        "while True:\n",
        "  mode = input(\"would u like to add a new password or view existing ones (view or add) press q to quit: \")\n",
        "  if mode == \"q\":\n",
        "    break\n",
        "  if mode == \"add\":\n",
        "    add()\n",
        "  if mode == \"view\":\n",
        "    view()\n",
        "\n"
      ],
      "execution_count": 19,
      "outputs": [
        {
          "output_type": "error",
          "ename": "SyntaxError",
          "evalue": "ignored",
          "traceback": [
            "\u001b[0;36m  File \u001b[0;32m\"<ipython-input-19-f8d5d28e2d23>\"\u001b[0;36m, line \u001b[0;32m25\u001b[0m\n\u001b[0;31m    pip install cryptography\u001b[0m\n\u001b[0m              ^\u001b[0m\n\u001b[0;31mSyntaxError\u001b[0m\u001b[0;31m:\u001b[0m invalid syntax\n"
          ]
        }
      ]
    }
  ]
}